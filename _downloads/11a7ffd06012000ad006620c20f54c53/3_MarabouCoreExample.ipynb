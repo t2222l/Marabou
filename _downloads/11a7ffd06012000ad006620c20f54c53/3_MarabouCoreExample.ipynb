{
  "nbformat": 4,
  "metadata": {
    "language_info": {
      "pygments_lexer": "ipython3",
      "version": "3.5.2",
      "file_extension": ".py",
      "codemirror_mode": {
        "version": 3,
        "name": "ipython"
      },
      "mimetype": "text/x-python",
      "nbconvert_exporter": "python",
      "name": "python"
    },
    "kernelspec": {
      "language": "python",
      "display_name": "Python 3",
      "name": "python3"
    }
  },
  "cells": [
    {
      "cell_type": "code",
      "outputs": [],
      "metadata": {
        "collapsed": false
      },
      "execution_count": null,
      "source": [
        "%matplotlib inline"
      ]
    },
    {
      "cell_type": "markdown",
      "metadata": {},
      "source": [
        "\nMarabouCore Example\n====================\n\nTop contributors (to current version):\n  - Christopher Lazarus\n  - Kyle Julian\n  - Andrew Wu\n  \nThis file is part of the Marabou project.\nCopyright (c) 2017-2019 by the authors listed in the file AUTHORS\nin the top-level source directory) and their institutional affiliations.\nAll rights reserved. See the file COPYING in the top-level source\ndirectory for licensing information.\n\n"
      ]
    },
    {
      "cell_type": "code",
      "outputs": [],
      "metadata": {
        "collapsed": false
      },
      "execution_count": null,
      "source": [
        "from maraboupy import MarabouCore\nfrom maraboupy.Marabou import createOptions"
      ]
    },
    {
      "cell_type": "markdown",
      "metadata": {},
      "source": [
        "The example from the CAV'17 paper:\n\n0 <= x0 <= 1\n\n0 <= x1f\n\n0 <= x2f\n\n1/2 <= x3 <= 1\n\nx0 - x1b = 0\n\nx0 + x2b = 0\n\nx1f + x2f - x3 = 0\n\nx1f = Relu(x1b)\n\nx2f = Relu(x2b)\n\nx0: x0\n\nx1: x1b\n\nx2: x1f\n\nx3: x2b\n\nx4: x2f\n\nx5: x3\n\n"
      ]
    },
    {
      "cell_type": "code",
      "outputs": [],
      "metadata": {
        "collapsed": false
      },
      "execution_count": null,
      "source": [
        "large = 10.0"
      ]
    },
    {
      "cell_type": "markdown",
      "metadata": {},
      "source": [
        "Setup Marabou's InputQuery\n\n"
      ]
    },
    {
      "cell_type": "code",
      "outputs": [],
      "metadata": {
        "collapsed": false
      },
      "execution_count": null,
      "source": [
        "inputQuery = MarabouCore.InputQuery()\ninputQuery.setNumberOfVariables(6)"
      ]
    },
    {
      "cell_type": "markdown",
      "metadata": {},
      "source": [
        "Set the lower and upper bounds on variables\n\n"
      ]
    },
    {
      "cell_type": "code",
      "outputs": [],
      "metadata": {
        "collapsed": false
      },
      "execution_count": null,
      "source": [
        "inputQuery.setLowerBound(0, 0)\ninputQuery.setUpperBound(0, 1)\ninputQuery.setLowerBound(1, -large)\ninputQuery.setUpperBound(1, large)\ninputQuery.setLowerBound(2, 0)\ninputQuery.setUpperBound(2, large)\ninputQuery.setLowerBound(3, -large)\ninputQuery.setUpperBound(3, large)\ninputQuery.setLowerBound(4, 0)\ninputQuery.setUpperBound(4, large)\ninputQuery.setLowerBound(5, 0.5)\ninputQuery.setUpperBound(5, 1)"
      ]
    },
    {
      "cell_type": "markdown",
      "metadata": {},
      "source": [
        "Add equation constraints\n\n"
      ]
    },
    {
      "cell_type": "code",
      "outputs": [],
      "metadata": {
        "collapsed": false
      },
      "execution_count": null,
      "source": [
        "equation1 = MarabouCore.Equation()\nequation1.addAddend(1, 0)\nequation1.addAddend(-1, 1)\nequation1.setScalar(0)\ninputQuery.addEquation(equation1)\n\nequation2 = MarabouCore.Equation()\nequation2.addAddend(1, 0)\nequation2.addAddend(1, 3)\nequation2.setScalar(0)\ninputQuery.addEquation(equation2)\n\nequation3 = MarabouCore.Equation()\nequation3.addAddend(1, 2)\nequation3.addAddend(1, 4)\nequation3.addAddend(-1, 5)\nequation3.setScalar(0)\ninputQuery.addEquation(equation3)"
      ]
    },
    {
      "cell_type": "markdown",
      "metadata": {},
      "source": [
        "Add Relu constraints\n\n"
      ]
    },
    {
      "cell_type": "code",
      "outputs": [],
      "metadata": {
        "collapsed": false
      },
      "execution_count": null,
      "source": [
        "MarabouCore.addReluConstraint(inputQuery, 1, 2)\nMarabouCore.addReluConstraint(inputQuery, 3, 4)"
      ]
    },
    {
      "cell_type": "markdown",
      "metadata": {},
      "source": [
        "Run Marabou to solve the query\nThis should return \"sat\"\n\n"
      ]
    },
    {
      "cell_type": "code",
      "outputs": [],
      "metadata": {
        "collapsed": false
      },
      "execution_count": null,
      "source": [
        "options = createOptions()\nvars, stats = MarabouCore.solve(inputQuery, options, \"\")\nif len(vars) > 0:\n    print(\"SAT\")\n    print(vars)\nelse:\n    print(\"UNSAT\")"
      ]
    }
  ],
  "nbformat_minor": 0
}